{
 "cells": [
  {
   "cell_type": "code",
   "execution_count": 1,
   "metadata": {},
   "outputs": [],
   "source": [
    "import numpy as np\n",
    "import pandas as pd\n",
    "import matplotlib.pyplot as plt\n",
    "import seaborn as sns\n",
    "import torch\n",
    "import torch.nn as nn\n",
    "import torch.optim as optim\n",
    "import glob\n",
    "from tqdm import tqdm\n",
    "import os\n"
   ]
  },
  {
   "cell_type": "code",
   "execution_count": null,
   "metadata": {},
   "outputs": [],
   "source": [
    "train_list = glob.glob('/shared_data/focussu/109.학습태도_및_성향_관찰_데이터/3.개방데이터/1.데이터/Training/01.원천데이터/processed_landmark/*.npy')\n",
    "valid_list = glob.glob('/shared_data/focussu/109.학습태도_및_성향_관찰_데이터/3.개방데이터/1.데이터/Validation/01.원천데이터/processed_landmark/*.npy')\n",
    "print(len(train_list))\n",
    "print(len(valid_list))\n",
    "\n",
    "\n",
    "\n",
    "\n"
   ]
  },
  {
   "cell_type": "code",
   "execution_count": 3,
   "metadata": {},
   "outputs": [
    {
     "name": "stderr",
     "output_type": "stream",
     "text": [
      "Train 영행렬 검사: 100%|██████████| 1159471/1159471 [03:21<00:00, 5741.48it/s] \n",
      "Valid 영행렬 검사: 100%|██████████| 137707/137707 [00:35<00:00, 3827.84it/s]\n"
     ]
    }
   ],
   "source": [
    "train_zero_count = 0\n",
    "valid_zero_count = 0\n",
    "train_zero_files = []\n",
    "valid_zero_files = []\n",
    "for train_path in tqdm(train_list, desc=\"Train 영행렬 검사\"):\n",
    "    try:\n",
    "        data = np.load(train_path)\n",
    "        # 0이 아닌 값이 하나도 없으면 영행렬\n",
    "        if not np.any(data):\n",
    "            train_zero_count += 1\n",
    "            train_zero_files.append(train_path)\n",
    "    except Exception as e:\n",
    "        print(f\"파일 로드 오류: {train_path}\")\n",
    "\n",
    "for valid_path in tqdm(valid_list, desc=\"Valid 영행렬 검사\"):\n",
    "    try:\n",
    "        data = np.load(valid_path)\n",
    "        # 0이 아닌 값이 하나도 없으면 영행렬\n",
    "        if not np.any(data):\n",
    "            valid_zero_count += 1\n",
    "            valid_zero_files.append(valid_path)\n",
    "    except Exception as e:\n",
    "        print(f\"파일 로드 오류: {valid_path}\")"
   ]
  },
  {
   "cell_type": "code",
   "execution_count": 4,
   "metadata": {},
   "outputs": [
    {
     "name": "stdout",
     "output_type": "stream",
     "text": [
      "Train 영행렬 개수: 0/1159471\n",
      "Valid 영행렬 개수: 0/137707\n"
     ]
    }
   ],
   "source": [
    "print(f\"Train 영행렬 개수: {train_zero_count}/{len(train_list)}\")\n",
    "print(f\"Valid 영행렬 개수: {valid_zero_count}/{len(valid_list)}\")\n"
   ]
  },
  {
   "cell_type": "code",
   "execution_count": 5,
   "metadata": {},
   "outputs": [
    {
     "ename": "IndexError",
     "evalue": "list index out of range",
     "output_type": "error",
     "traceback": [
      "\u001b[0;31m---------------------------------------------------------------------------\u001b[0m",
      "\u001b[0;31mIndexError\u001b[0m                                Traceback (most recent call last)",
      "Cell \u001b[0;32mIn[5], line 1\u001b[0m\n\u001b[0;32m----> 1\u001b[0m tmp \u001b[38;5;241m=\u001b[39m\u001b[43mvalid_zero_files\u001b[49m\u001b[43m[\u001b[49m\u001b[38;5;241;43m300\u001b[39;49m\u001b[43m]\u001b[49m\n\u001b[1;32m      2\u001b[0m filename \u001b[38;5;241m=\u001b[39mos\u001b[38;5;241m.\u001b[39mpath\u001b[38;5;241m.\u001b[39mbasename(tmp)\u001b[38;5;241m.\u001b[39msplit(\u001b[38;5;124m'\u001b[39m\u001b[38;5;124m_\u001b[39m\u001b[38;5;124m'\u001b[39m)[\u001b[38;5;241m0\u001b[39m]\n",
      "\u001b[0;31mIndexError\u001b[0m: list index out of range"
     ]
    }
   ],
   "source": [
    "tmp =valid_zero_files[300]\n",
    "filename =os.path.basename(tmp).split('_')[0]"
   ]
  },
  {
   "cell_type": "code",
   "execution_count": null,
   "metadata": {},
   "outputs": [],
   "source": [
    "data = np.load(tmp)\n",
    "for i in data:\n",
    "    print(i)"
   ]
  },
  {
   "cell_type": "code",
   "execution_count": null,
   "metadata": {},
   "outputs": [],
   "source": [
    "\n",
    "\n",
    "import cv2\n",
    "import os\n",
    "import matplotlib.pyplot as plt\n",
    "img = glob.glob(f'/shared_data/focussu/109.학습태도_및_성향_관찰_데이터/3.개방데이터/1.데이터/Validation/01.원천데이터/*/{filename}.jpg')\n",
    "plt.imshow(cv2.imread(img[0]))\n",
    "plt.show()\n"
   ]
  },
  {
   "cell_type": "code",
   "execution_count": null,
   "metadata": {},
   "outputs": [],
   "source": [
    "# train_zero_files 저장\n",
    "with open('train_zero_files.txt', 'w') as f:\n",
    "    for file_path in train_zero_files:\n",
    "        f.write(f\"{file_path}\\n\")\n",
    "\n",
    "# valid_zero_files 저장  \n",
    "with open('valid_zero_files.txt', 'w') as f:\n",
    "    for file_path in valid_zero_files:\n",
    "        f.write(f\"{file_path}\\n\")\n",
    "\n",
    "print(\"파일이 저장되었습니다.\")\n"
   ]
  },
  {
   "cell_type": "code",
   "execution_count": 18,
   "metadata": {},
   "outputs": [],
   "source": [
    "import os\n",
    "# for zero_file in train_zero_files:\n",
    "#     os.remove(zero_file)\n",
    "\n",
    "for zero_file in valid_zero_files:\n",
    "    os.remove(zero_file)"
   ]
  },
  {
   "cell_type": "code",
   "execution_count": null,
   "metadata": {},
   "outputs": [],
   "source": []
  }
 ],
 "metadata": {
  "kernelspec": {
   "display_name": "focussu-ai",
   "language": "python",
   "name": "python3"
  },
  "language_info": {
   "codemirror_mode": {
    "name": "ipython",
    "version": 3
   },
   "file_extension": ".py",
   "mimetype": "text/x-python",
   "name": "python",
   "nbconvert_exporter": "python",
   "pygments_lexer": "ipython3",
   "version": "3.9.21"
  }
 },
 "nbformat": 4,
 "nbformat_minor": 2
}
