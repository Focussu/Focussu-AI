{
 "cells": [
  {
   "cell_type": "code",
   "execution_count": 1,
   "metadata": {},
   "outputs": [
    {
     "name": "stderr",
     "output_type": "stream",
     "text": [
      "2025-05-21 16:02:12.681100: I tensorflow/core/util/port.cc:153] oneDNN custom operations are on. You may see slightly different numerical results due to floating-point round-off errors from different computation orders. To turn them off, set the environment variable `TF_ENABLE_ONEDNN_OPTS=0`.\n",
      "2025-05-21 16:02:12.827164: E external/local_xla/xla/stream_executor/cuda/cuda_fft.cc:467] Unable to register cuFFT factory: Attempting to register factory for plugin cuFFT when one has already been registered\n",
      "WARNING: All log messages before absl::InitializeLog() is called are written to STDERR\n",
      "E0000 00:00:1747810932.879920  207625 cuda_dnn.cc:8579] Unable to register cuDNN factory: Attempting to register factory for plugin cuDNN when one has already been registered\n",
      "E0000 00:00:1747810932.896346  207625 cuda_blas.cc:1407] Unable to register cuBLAS factory: Attempting to register factory for plugin cuBLAS when one has already been registered\n",
      "W0000 00:00:1747810933.013100  207625 computation_placer.cc:177] computation placer already registered. Please check linkage and avoid linking the same target more than once.\n",
      "W0000 00:00:1747810933.013123  207625 computation_placer.cc:177] computation placer already registered. Please check linkage and avoid linking the same target more than once.\n",
      "W0000 00:00:1747810933.013124  207625 computation_placer.cc:177] computation placer already registered. Please check linkage and avoid linking the same target more than once.\n",
      "W0000 00:00:1747810933.013126  207625 computation_placer.cc:177] computation placer already registered. Please check linkage and avoid linking the same target more than once.\n",
      "2025-05-21 16:02:13.028148: I tensorflow/core/platform/cpu_feature_guard.cc:210] This TensorFlow binary is optimized to use available CPU instructions in performance-critical operations.\n",
      "To enable the following instructions: AVX2 AVX512F AVX512_VNNI AVX512_BF16 FMA, in other operations, rebuild TensorFlow with the appropriate compiler flags.\n"
     ]
    }
   ],
   "source": [
    "from mediapipe import solutions\n",
    "from mediapipe.framework.formats import landmark_pb2\n",
    "import mediapipe as mp\n",
    "from mediapipe.tasks import python\n",
    "from mediapipe.tasks.python import vision\n",
    "import numpy as np\n",
    "import matplotlib.pyplot as plt\n",
    "import pandas as pd\n",
    "import cv2\n",
    "from data import FocusDataset\n",
    "\n",
    "import torch\n",
    "import torch.nn as nn\n",
    "import torch.nn.functional as F\n",
    "\n",
    "from torch.utils.data import Dataset, DataLoader\n",
    "from tqdm import tqdm"
   ]
  },
  {
   "cell_type": "code",
   "execution_count": 2,
   "metadata": {},
   "outputs": [],
   "source": [
    "train_data_list = ['00_01', '00_02', '00_03', '00_04', '00_05', '10_02', '10_03']\n",
    "valid_data_list = ['00_01', '00_02']"
   ]
  },
  {
   "cell_type": "code",
   "execution_count": 3,
   "metadata": {},
   "outputs": [
    {
     "name": "stdout",
     "output_type": "stream",
     "text": [
      "pkl_files: 229384\n",
      "meta_files: 229384\n",
      "메타데이터 로딩 중...\n"
     ]
    },
    {
     "name": "stderr",
     "output_type": "stream",
     "text": [
      "메타데이터: 100%|██████████| 229384/229384 [00:49<00:00, 4670.42it/s]\n"
     ]
    },
    {
     "name": "stdout",
     "output_type": "stream",
     "text": [
      "pkl_files: 1717\n",
      "meta_files: 1717\n",
      "메타데이터 로딩 중...\n"
     ]
    },
    {
     "name": "stderr",
     "output_type": "stream",
     "text": [
      "메타데이터: 100%|██████████| 1717/1717 [00:00<00:00, 4715.26it/s]"
     ]
    },
    {
     "name": "stdout",
     "output_type": "stream",
     "text": [
      "229384\n"
     ]
    },
    {
     "name": "stderr",
     "output_type": "stream",
     "text": [
      "\n"
     ]
    }
   ],
   "source": [
    "base_path = '/shared_data/focussu/109.학습태도_및_성향_관찰_데이터/3.개방데이터/1.데이터'\n",
    "train_dataset = FocusDataset(base_path+'/Training', train_data_list)\n",
    "test_dataset = FocusDataset(base_path+'/Validation', valid_data_list)\n",
    "print(len(train_dataset))\n"
   ]
  },
  {
   "cell_type": "markdown",
   "metadata": {},
   "source": [
    "## DL Model"
   ]
  },
  {
   "cell_type": "code",
   "execution_count": 4,
   "metadata": {},
   "outputs": [],
   "source": [
    "class PointNetClassifier(nn.Module):\n",
    "    def __init__(self, num_classes=3):\n",
    "        super(PointNetClassifier, self).__init__()\n",
    "\n",
    "        self.fc1 = nn.Linear(3, 64)\n",
    "        self.bn1 = nn.BatchNorm1d(64)\n",
    "\n",
    "        self.fc2 = nn.Linear(64, 128)\n",
    "        self.bn2 = nn.BatchNorm1d(128)\n",
    "\n",
    "        self.fc3 = nn.Linear(128, 256)\n",
    "        self.bn3 = nn.BatchNorm1d(256)\n",
    "\n",
    "        self.cls_fc1 = nn.Linear(256, 128)\n",
    "        self.cls_bn1 = nn.BatchNorm1d(128)\n",
    "        self.dropout = nn.Dropout(0.3)\n",
    "        self.cls_fc2 = nn.Linear(128, num_classes)\n",
    "\n",
    "    def forward(self, x):\n",
    "        B, N, D = x.size()  # (B, 478, 3)\n",
    "\n",
    "        x = self.fc1(x)  # (B, N, 64)\n",
    "        x = self.bn1(x.transpose(1, 2)).transpose(1, 2)\n",
    "        x = F.relu(x)\n",
    "\n",
    "        x = self.fc2(x)  # (B, N, 128)\n",
    "        x = self.bn2(x.transpose(1, 2)).transpose(1, 2)\n",
    "        x = F.relu(x)\n",
    "\n",
    "        x = self.fc3(x)  # (B, N, 256)\n",
    "        x = self.bn3(x.transpose(1, 2)).transpose(1, 2)\n",
    "        x = F.relu(x)\n",
    "\n",
    "        x = torch.max(x, dim=1)[0]  # (B, 256)\n",
    "\n",
    "        x = self.cls_fc1(x)         # (B, 128)\n",
    "        x = self.cls_bn1(x)\n",
    "        x = F.relu(x)\n",
    "        x = self.dropout(x)\n",
    "\n",
    "        x = self.cls_fc2(x)         # (B, num_classes)\n",
    "        return x\n"
   ]
  },
  {
   "cell_type": "code",
   "execution_count": 5,
   "metadata": {},
   "outputs": [],
   "source": [
    "train_loader = DataLoader(train_dataset, num_workers=3, batch_size=32, shuffle=True)\n",
    "test_loader = DataLoader(test_dataset, num_workers=2, batch_size=32, shuffle=False)\n"
   ]
  },
  {
   "cell_type": "code",
   "execution_count": 6,
   "metadata": {},
   "outputs": [
    {
     "name": "stderr",
     "output_type": "stream",
     "text": [
      "100%|██████████| 7169/7169 [01:00<00:00, 119.22it/s]"
     ]
    },
    {
     "name": "stdout",
     "output_type": "stream",
     "text": [
      "Epoch 0 Loss 0.2081659585237503\n"
     ]
    },
    {
     "name": "stderr",
     "output_type": "stream",
     "text": [
      "\n",
      "100%|██████████| 7169/7169 [00:53<00:00, 132.81it/s]\n",
      "100%|██████████| 7169/7169 [00:55<00:00, 130.29it/s]\n",
      "100%|██████████| 7169/7169 [00:56<00:00, 127.00it/s]\n",
      "100%|██████████| 7169/7169 [00:55<00:00, 128.34it/s]\n",
      "100%|██████████| 7169/7169 [01:45<00:00, 68.14it/s] \n",
      "100%|██████████| 7169/7169 [01:11<00:00, 100.43it/s]\n",
      "100%|██████████| 7169/7169 [01:17<00:00, 92.32it/s] \n",
      "100%|██████████| 7169/7169 [01:08<00:00, 104.40it/s]\n",
      "100%|██████████| 7169/7169 [00:57<00:00, 124.24it/s]\n",
      "100%|██████████| 7169/7169 [00:59<00:00, 120.50it/s]\n"
     ]
    },
    {
     "name": "stdout",
     "output_type": "stream",
     "text": [
      "Epoch 10 Loss 0.0009087839280255139\n"
     ]
    },
    {
     "name": "stderr",
     "output_type": "stream",
     "text": [
      "100%|██████████| 7169/7169 [00:57<00:00, 124.80it/s]\n",
      "100%|██████████| 7169/7169 [00:58<00:00, 123.01it/s]\n",
      "100%|██████████| 7169/7169 [00:53<00:00, 133.70it/s]\n",
      "100%|██████████| 7169/7169 [00:57<00:00, 125.37it/s]\n",
      "100%|██████████| 7169/7169 [00:56<00:00, 126.82it/s]\n",
      "100%|██████████| 7169/7169 [01:00<00:00, 118.75it/s]\n",
      "100%|██████████| 7169/7169 [00:57<00:00, 123.86it/s]\n",
      "100%|██████████| 7169/7169 [00:57<00:00, 123.79it/s]\n",
      "100%|██████████| 7169/7169 [00:53<00:00, 132.99it/s]\n",
      "100%|██████████| 7169/7169 [00:57<00:00, 123.65it/s]"
     ]
    },
    {
     "name": "stdout",
     "output_type": "stream",
     "text": [
      "Epoch 20 Loss 0.048784367740154266\n"
     ]
    },
    {
     "name": "stderr",
     "output_type": "stream",
     "text": [
      "\n",
      "100%|██████████| 7169/7169 [00:54<00:00, 131.36it/s]\n",
      "100%|██████████| 7169/7169 [00:52<00:00, 136.30it/s]\n",
      "100%|██████████| 7169/7169 [00:54<00:00, 131.27it/s]\n",
      "100%|██████████| 7169/7169 [00:54<00:00, 130.62it/s]\n",
      "100%|██████████| 7169/7169 [00:53<00:00, 133.57it/s]\n",
      "100%|██████████| 7169/7169 [00:53<00:00, 133.22it/s]\n",
      "100%|██████████| 7169/7169 [00:53<00:00, 134.96it/s]\n",
      "100%|██████████| 7169/7169 [00:56<00:00, 126.96it/s]\n",
      "100%|██████████| 7169/7169 [00:53<00:00, 132.91it/s]\n",
      "100%|██████████| 7169/7169 [00:52<00:00, 137.12it/s]"
     ]
    },
    {
     "name": "stdout",
     "output_type": "stream",
     "text": [
      "Epoch 30 Loss 0.009166421368718147\n"
     ]
    },
    {
     "name": "stderr",
     "output_type": "stream",
     "text": [
      "\n",
      "100%|██████████| 7169/7169 [00:53<00:00, 134.22it/s]\n",
      "100%|██████████| 7169/7169 [00:56<00:00, 127.27it/s]\n",
      "100%|██████████| 7169/7169 [00:55<00:00, 128.48it/s]\n",
      "100%|██████████| 7169/7169 [00:55<00:00, 129.68it/s]\n",
      "100%|██████████| 7169/7169 [00:55<00:00, 129.52it/s]\n",
      "100%|██████████| 7169/7169 [00:58<00:00, 123.26it/s]\n",
      "100%|██████████| 7169/7169 [02:43<00:00, 43.86it/s] \n",
      "100%|██████████| 7169/7169 [01:12<00:00, 99.44it/s] \n",
      "100%|██████████| 7169/7169 [01:12<00:00, 99.29it/s] \n",
      "100%|██████████| 7169/7169 [01:01<00:00, 115.80it/s]"
     ]
    },
    {
     "name": "stdout",
     "output_type": "stream",
     "text": [
      "Epoch 40 Loss 0.037866849452257156\n"
     ]
    },
    {
     "name": "stderr",
     "output_type": "stream",
     "text": [
      "\n",
      "100%|██████████| 7169/7169 [00:52<00:00, 135.85it/s]\n",
      "100%|██████████| 7169/7169 [00:55<00:00, 128.13it/s]\n",
      "100%|██████████| 7169/7169 [00:54<00:00, 131.42it/s]\n",
      "100%|██████████| 7169/7169 [00:53<00:00, 133.22it/s]\n",
      "100%|██████████| 7169/7169 [00:56<00:00, 126.19it/s]\n",
      "100%|██████████| 7169/7169 [00:52<00:00, 137.13it/s]\n",
      "100%|██████████| 7169/7169 [00:56<00:00, 126.20it/s]\n",
      "100%|██████████| 7169/7169 [00:54<00:00, 131.01it/s]\n",
      "100%|██████████| 7169/7169 [00:55<00:00, 128.05it/s]\n",
      "100%|██████████| 7169/7169 [00:52<00:00, 137.51it/s]"
     ]
    },
    {
     "name": "stdout",
     "output_type": "stream",
     "text": [
      "Epoch 50 Loss 0.21348357200622559\n"
     ]
    },
    {
     "name": "stderr",
     "output_type": "stream",
     "text": [
      "\n",
      "100%|██████████| 7169/7169 [00:53<00:00, 134.26it/s]\n",
      "100%|██████████| 7169/7169 [00:52<00:00, 135.99it/s]\n",
      "100%|██████████| 7169/7169 [00:52<00:00, 136.41it/s]\n",
      "100%|██████████| 7169/7169 [00:56<00:00, 127.17it/s]\n",
      "100%|██████████| 7169/7169 [00:54<00:00, 131.63it/s]\n",
      "100%|██████████| 7169/7169 [00:53<00:00, 134.49it/s]\n",
      "100%|██████████| 7169/7169 [00:55<00:00, 128.02it/s]\n",
      "100%|██████████| 7169/7169 [00:54<00:00, 130.46it/s]\n",
      "100%|██████████| 7169/7169 [00:52<00:00, 137.30it/s]\n",
      "100%|██████████| 7169/7169 [00:59<00:00, 120.30it/s]"
     ]
    },
    {
     "name": "stdout",
     "output_type": "stream",
     "text": [
      "Epoch 60 Loss 0.04652206227183342\n"
     ]
    },
    {
     "name": "stderr",
     "output_type": "stream",
     "text": [
      "\n",
      "100%|██████████| 7169/7169 [00:56<00:00, 127.94it/s]\n",
      "100%|██████████| 7169/7169 [00:52<00:00, 136.51it/s]\n",
      "100%|██████████| 7169/7169 [00:52<00:00, 135.33it/s]\n",
      "100%|██████████| 7169/7169 [00:53<00:00, 134.71it/s]\n",
      "100%|██████████| 7169/7169 [00:57<00:00, 125.32it/s]\n",
      "100%|██████████| 7169/7169 [00:55<00:00, 129.40it/s]\n",
      "100%|██████████| 7169/7169 [00:53<00:00, 134.69it/s]\n",
      "100%|██████████| 7169/7169 [00:55<00:00, 129.52it/s]\n",
      "100%|██████████| 7169/7169 [00:54<00:00, 132.38it/s]\n",
      "100%|██████████| 7169/7169 [00:52<00:00, 135.67it/s]"
     ]
    },
    {
     "name": "stdout",
     "output_type": "stream",
     "text": [
      "Epoch 70 Loss 0.0026732548139989376\n"
     ]
    },
    {
     "name": "stderr",
     "output_type": "stream",
     "text": [
      "\n",
      "100%|██████████| 7169/7169 [00:55<00:00, 130.08it/s]\n",
      "100%|██████████| 7169/7169 [00:56<00:00, 126.68it/s]\n",
      "100%|██████████| 7169/7169 [00:52<00:00, 137.83it/s]\n",
      "100%|██████████| 7169/7169 [01:05<00:00, 108.91it/s]\n",
      "100%|██████████| 7169/7169 [01:40<00:00, 71.13it/s] \n",
      "100%|██████████| 7169/7169 [01:16<00:00, 93.28it/s] \n",
      "100%|██████████| 7169/7169 [01:16<00:00, 94.00it/s] \n",
      "100%|██████████| 7169/7169 [00:58<00:00, 122.29it/s]\n",
      "100%|██████████| 7169/7169 [00:52<00:00, 135.90it/s]\n",
      "100%|██████████| 7169/7169 [00:54<00:00, 130.65it/s]"
     ]
    },
    {
     "name": "stdout",
     "output_type": "stream",
     "text": [
      "Epoch 80 Loss 0.06166066601872444\n"
     ]
    },
    {
     "name": "stderr",
     "output_type": "stream",
     "text": [
      "\n",
      "100%|██████████| 7169/7169 [00:57<00:00, 124.03it/s]\n",
      "100%|██████████| 7169/7169 [00:55<00:00, 128.24it/s]\n",
      "100%|██████████| 7169/7169 [00:53<00:00, 132.85it/s]\n",
      "100%|██████████| 7169/7169 [00:58<00:00, 123.17it/s]\n",
      "100%|██████████| 7169/7169 [00:51<00:00, 138.71it/s]\n",
      "100%|██████████| 7169/7169 [00:53<00:00, 135.05it/s]\n",
      "100%|██████████| 7169/7169 [00:57<00:00, 125.77it/s]\n",
      "100%|██████████| 7169/7169 [00:56<00:00, 127.04it/s]\n",
      "100%|██████████| 7169/7169 [00:56<00:00, 126.32it/s]\n",
      "100%|██████████| 7169/7169 [00:55<00:00, 128.59it/s]"
     ]
    },
    {
     "name": "stdout",
     "output_type": "stream",
     "text": [
      "Epoch 90 Loss 0.01797585003077984\n"
     ]
    },
    {
     "name": "stderr",
     "output_type": "stream",
     "text": [
      "\n",
      "100%|██████████| 7169/7169 [00:51<00:00, 139.18it/s]\n",
      "100%|██████████| 7169/7169 [00:56<00:00, 127.67it/s]\n",
      "100%|██████████| 7169/7169 [00:56<00:00, 126.76it/s]\n",
      "100%|██████████| 7169/7169 [00:56<00:00, 127.27it/s]\n",
      "100%|██████████| 7169/7169 [00:53<00:00, 135.22it/s]\n",
      "100%|██████████| 7169/7169 [00:52<00:00, 136.32it/s]\n",
      "100%|██████████| 7169/7169 [00:56<00:00, 127.55it/s]\n",
      "100%|██████████| 7169/7169 [00:56<00:00, 126.96it/s]\n",
      "100%|██████████| 7169/7169 [00:58<00:00, 122.12it/s]\n"
     ]
    }
   ],
   "source": [
    "device = torch.device('cuda' if torch.cuda.is_available() else 'cpu')\n",
    "model = PointNetClassifier().to(device)\n",
    "optimizer = torch.optim.Adam(model.parameters(), lr=1e-3)\n",
    "criterion = nn.CrossEntropyLoss()\n",
    "num_epochs = 100\n",
    "\n",
    "for epoch in range(num_epochs):\n",
    "    model.train()\n",
    "    pbar = tqdm(enumerate(train_loader), total=len(train_loader))\n",
    "    for batch_idx, batch in pbar:\n",
    "        x = batch['landmarks'].to(device)\n",
    "        y = (batch['label']['category_id'] - 1).long().to(device)\n",
    "\n",
    "        optimizer.zero_grad()\n",
    "        output = model(x)\n",
    "        loss = criterion(output, y)\n",
    "        loss.backward()\n",
    "        optimizer.step()       \n",
    "        \n",
    "    if(epoch % 10 == 0):\n",
    "        print(f'Epoch {epoch} Loss {loss.item()}')\n",
    "    #     model.eval()\n",
    "    #     test_loss = 0\n",
    "    #     correct = 0\n",
    "    #     total = 0\n",
    "    #     with torch.no_grad():\n",
    "    #         for batch_idx, (data, target) in enumerate(test_loader):\n",
    "    #             data, target = data.to(device), target.to(device)\n",
    "    #             output = model(data)\n",
    "    #             loss = criterion(output, target)\n",
    "    #             test_loss += loss.item()\n",
    "    #             _, predicted = output.max(1)\n",
    "    #             total += target.size(0)"
   ]
  },
  {
   "cell_type": "code",
   "execution_count": 7,
   "metadata": {},
   "outputs": [
    {
     "name": "stdout",
     "output_type": "stream",
     "text": [
      "모델이 /home/hyun/focussu-ai/model/landmark_classifier_v1.pkl에 저장되었습니다.\n"
     ]
    }
   ],
   "source": [
    "# 모델 저장\n",
    "model_save_path = '/home/hyun/focussu-ai/model/landmark_classifier_v1.pkl'\n",
    "torch.save(model.state_dict(), model_save_path)\n",
    "print(f'모델이 {model_save_path}에 저장되었습니다.')\n"
   ]
  },
  {
   "cell_type": "code",
   "execution_count": null,
   "metadata": {},
   "outputs": [],
   "source": []
  }
 ],
 "metadata": {
  "kernelspec": {
   "display_name": "focussu-ai",
   "language": "python",
   "name": "python3"
  },
  "language_info": {
   "codemirror_mode": {
    "name": "ipython",
    "version": 3
   },
   "file_extension": ".py",
   "mimetype": "text/x-python",
   "name": "python",
   "nbconvert_exporter": "python",
   "pygments_lexer": "ipython3",
   "version": "3.9.21"
  }
 },
 "nbformat": 4,
 "nbformat_minor": 2
}
