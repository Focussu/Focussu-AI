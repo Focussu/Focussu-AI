{
 "cells": [
  {
   "cell_type": "markdown",
   "metadata": {},
   "source": [
    "# EDA\n",
    "- 결론: 한 영상 묶음은 하나의 라벨로 묶여있다."
   ]
  },
  {
   "cell_type": "code",
   "execution_count": 1,
   "metadata": {},
   "outputs": [],
   "source": [
    "import os\n",
    "import glob\n",
    "import pickle\n",
    "import json\n",
    "import numpy as np\n",
    "import matplotlib.pyplot as plt\n",
    "import cv2\n",
    "import pandas as pd\n"
   ]
  },
  {
   "cell_type": "code",
   "execution_count": 2,
   "metadata": {},
   "outputs": [
    {
     "name": "stdout",
     "output_type": "stream",
     "text": [
      "pkl_files: 333949\n"
     ]
    }
   ],
   "source": [
    "base_path = '/shared_data/focussu/109.학습태도_및_성향_관찰_데이터/3.개방데이터/1.데이터/Training'\n",
    "\n",
    "file_list = ['00_01', '00_02', '00_03', '00_04', '00_05',\n",
    "                '10_01', '10_02', '10_03',]\n",
    "\n",
    "pkl_files = []\n",
    "meta_files = []\n",
    "for file in file_list:\n",
    "    pkl_files.extend(glob.glob(f'{base_path}/01.원천데이터/TS_{file}*_p/*_result.pkl'))\n",
    "    meta_files.extend(glob.glob(f'{base_path}/02.라벨링데이터/TL_{file}/*.json'))\n",
    "print(f'pkl_files: {len(pkl_files)}')\n"
   ]
  },
  {
   "cell_type": "code",
   "execution_count": 3,
   "metadata": {},
   "outputs": [
    {
     "name": "stdout",
     "output_type": "stream",
     "text": [
      "333949\n"
     ]
    }
   ],
   "source": [
    "meta_list = []\n",
    "\n",
    "for file in meta_files:\n",
    "    if not os.path.exists(file):\n",
    "        print(f\"경고: 디렉토리가 존재하지 않습니다: {file}\")\n",
    "        continue\n",
    "    with open(file, 'r') as f:\n",
    "        metadata = json.load(f)\n",
    "        meta_dict = {\n",
    "                'filename': metadata['이미지']['filename'],\n",
    "                'format': metadata['이미지']['format'],\n",
    "                'idx': metadata['이미지']['timeline']['id'],\n",
    "                'category_id': metadata['이미지']['category']['id'],\n",
    "                'category_name': metadata['이미지']['category']['name'],\n",
    "                'emotion': metadata['이미지']['emotion']\n",
    "        }\n",
    "        meta_list.append(meta_dict)\n",
    "print(len(meta_list))"
   ]
  },
  {
   "cell_type": "code",
   "execution_count": 4,
   "metadata": {},
   "outputs": [],
   "source": [
    "df = pd.DataFrame(meta_list)\n",
    "df.sort_values(by=['filename', 'idx'], inplace=True)"
   ]
  },
  {
   "cell_type": "code",
   "execution_count": 5,
   "metadata": {},
   "outputs": [
    {
     "name": "stdout",
     "output_type": "stream",
     "text": [
      "(333949, 6)\n"
     ]
    }
   ],
   "source": [
    "print(df.shape)"
   ]
  },
  {
   "cell_type": "code",
   "execution_count": 6,
   "metadata": {},
   "outputs": [
    {
     "ename": "IndentationError",
     "evalue": "expected an indented block (1905653142.py, line 3)",
     "output_type": "error",
     "traceback": [
      "\u001b[0;36m  Cell \u001b[0;32mIn[6], line 3\u001b[0;36m\u001b[0m\n\u001b[0;31m    \u001b[0m\n\u001b[0m    ^\u001b[0m\n\u001b[0;31mIndentationError\u001b[0m\u001b[0;31m:\u001b[0m expected an indented block\n"
     ]
    }
   ],
   "source": [
    "for k, v in df.groupby(by=['filename']):\n",
    "    if(v['category_id'].nunique() > 1):\n",
    "        "
   ]
  },
  {
   "cell_type": "code",
   "execution_count": 10,
   "metadata": {},
   "outputs": [
    {
     "data": {
      "text/html": [
       "<div>\n",
       "<style scoped>\n",
       "    .dataframe tbody tr th:only-of-type {\n",
       "        vertical-align: middle;\n",
       "    }\n",
       "\n",
       "    .dataframe tbody tr th {\n",
       "        vertical-align: top;\n",
       "    }\n",
       "\n",
       "    .dataframe thead th {\n",
       "        text-align: right;\n",
       "    }\n",
       "</style>\n",
       "<table border=\"1\" class=\"dataframe\">\n",
       "  <thead>\n",
       "    <tr style=\"text-align: right;\">\n",
       "      <th></th>\n",
       "      <th>filename</th>\n",
       "      <th>idx</th>\n",
       "      <th>category_id</th>\n",
       "      <th>category_name</th>\n",
       "      <th>emotion</th>\n",
       "    </tr>\n",
       "  </thead>\n",
       "  <tbody>\n",
       "    <tr>\n",
       "      <th>0</th>\n",
       "      <td>04-01-378-01-1-8-23082700000337-01.mp4</td>\n",
       "      <td>38</td>\n",
       "      <td>1</td>\n",
       "      <td>집중</td>\n",
       "      <td>흥미로움</td>\n",
       "    </tr>\n",
       "    <tr>\n",
       "      <th>1</th>\n",
       "      <td>04-01-423-02-2-9-23083100000020-01.mp4</td>\n",
       "      <td>38</td>\n",
       "      <td>1</td>\n",
       "      <td>집중</td>\n",
       "      <td>흥미로움</td>\n",
       "    </tr>\n",
       "    <tr>\n",
       "      <th>2</th>\n",
       "      <td>04-01-497-01-2-8-23083000000036-01.mp4</td>\n",
       "      <td>11</td>\n",
       "      <td>1</td>\n",
       "      <td>집중</td>\n",
       "      <td>흥미로움</td>\n",
       "    </tr>\n",
       "    <tr>\n",
       "      <th>3</th>\n",
       "      <td>04-01-544-01-1-8-23090100000009-01.mp4</td>\n",
       "      <td>17</td>\n",
       "      <td>1</td>\n",
       "      <td>집중</td>\n",
       "      <td>흥미로움</td>\n",
       "    </tr>\n",
       "    <tr>\n",
       "      <th>4</th>\n",
       "      <td>04-01-179-02-2-9-23082700000331-01.mp4</td>\n",
       "      <td>24</td>\n",
       "      <td>1</td>\n",
       "      <td>집중</td>\n",
       "      <td>흥미로움</td>\n",
       "    </tr>\n",
       "  </tbody>\n",
       "</table>\n",
       "</div>"
      ],
      "text/plain": [
       "                                 filename  idx  category_id category_name  \\\n",
       "0  04-01-378-01-1-8-23082700000337-01.mp4   38            1            집중   \n",
       "1  04-01-423-02-2-9-23083100000020-01.mp4   38            1            집중   \n",
       "2  04-01-497-01-2-8-23083000000036-01.mp4   11            1            집중   \n",
       "3  04-01-544-01-1-8-23090100000009-01.mp4   17            1            집중   \n",
       "4  04-01-179-02-2-9-23082700000331-01.mp4   24            1            집중   \n",
       "\n",
       "  emotion  \n",
       "0    흥미로움  \n",
       "1    흥미로움  \n",
       "2    흥미로움  \n",
       "3    흥미로움  \n",
       "4    흥미로움  "
      ]
     },
     "execution_count": 10,
     "metadata": {},
     "output_type": "execute_result"
    }
   ],
   "source": [
    "df.head()"
   ]
  },
  {
   "cell_type": "code",
   "execution_count": 14,
   "metadata": {},
   "outputs": [
    {
     "name": "stderr",
     "output_type": "stream",
     "text": [
      "  0%|          | 0/333949 [00:00<?, ?it/s]"
     ]
    },
    {
     "name": "stderr",
     "output_type": "stream",
     "text": [
      "100%|██████████| 333949/333949 [05:26<00:00, 1021.83it/s]"
     ]
    },
    {
     "name": "stdout",
     "output_type": "stream",
     "text": [
      "NotExists: 2938\n",
      "Sleep: 6079\n",
      "NotandSleep: 126\n"
     ]
    },
    {
     "name": "stderr",
     "output_type": "stream",
     "text": [
      "\n"
     ]
    }
   ],
   "source": [
    "from tqdm import tqdm\n",
    "NotExists = 0\n",
    "Sleep = 0\n",
    "NotandSleep = 0\n",
    "for file in tqdm(meta_list):\n",
    "    name = file['format'].split('.')[0]\n",
    "    pkl_file = glob.glob(f'{base_path}/01.원천데이터/*/{name}_result.pkl')[0]\n",
    "    if not os.path.exists(pkl_file):\n",
    "        print(f\"경고: 디렉토리가 존재하지 않습니다: {pkl_file}\")\n",
    "        continue\n",
    "    with open(pkl_file, 'rb') as f:\n",
    "        data = pickle.load(f)\n",
    "    \n",
    "    if not data.face_landmarks:\n",
    "        NotExists += 1\n",
    "    if file['category_id'] == 3:\n",
    "        Sleep += 1\n",
    "    if not data.face_landmarks and file['category_id'] == 3:\n",
    "        NotandSleep += 1\n",
    "print(f'NotExists: {NotExists}')\n",
    "print(f'Sleep: {Sleep}')\n",
    "print(f'NotandSleep: {NotandSleep}')\n",
    "\n"
   ]
  },
  {
   "cell_type": "code",
   "execution_count": null,
   "metadata": {},
   "outputs": [],
   "source": []
  },
  {
   "cell_type": "code",
   "execution_count": null,
   "metadata": {},
   "outputs": [],
   "source": []
  }
 ],
 "metadata": {
  "kernelspec": {
   "display_name": "focussu-ai",
   "language": "python",
   "name": "python3"
  },
  "language_info": {
   "codemirror_mode": {
    "name": "ipython",
    "version": 3
   },
   "file_extension": ".py",
   "mimetype": "text/x-python",
   "name": "python",
   "nbconvert_exporter": "python",
   "pygments_lexer": "ipython3",
   "version": "3.9.21"
  }
 },
 "nbformat": 4,
 "nbformat_minor": 2
}
